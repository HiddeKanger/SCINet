{
 "cells": [
  {
   "cell_type": "markdown",
   "metadata": {},
   "source": [
    "# Strategy backtester"
   ]
  },
  {
   "cell_type": "markdown",
   "metadata": {},
   "source": [
    "This notebook explains the backtester that is used to evaluate the performance of a given strategy over historic data. This is done by loading the historic data and replaying it as if it were live and repeatedly prompting the strategy for actions (buy, sell, do nothing, etc.).\n",
    "\n",
    "A strategy is an implementation that takes the dataset as input and outputs actions. In this notebook, we will consider a simple strategy based on the output of the SCINet model. The exact strategy will be explained later."
   ]
  },
  {
   "cell_type": "code",
   "execution_count": 1,
   "metadata": {},
   "outputs": [],
   "source": [
    "import os\n",
    "import sys\n",
    "\n",
    "cwd = os.getcwd()\n",
    "BASE_DIR = os.path.dirname(os.path.dirname(cwd))\n",
    "\n",
    "sys.path.insert(0, BASE_DIR) #add base to path for relative imports\n",
    "\n",
    "sys.path.insert(0, \"data/\")"
   ]
  },
  {
   "cell_type": "code",
   "execution_count": 2,
   "metadata": {},
   "outputs": [],
   "source": [
    "from tqdm import tqdm\n",
    "import numpy as np\n",
    "import matplotlib.dates as md\n",
    "import datetime as dt\n",
    "\n",
    "from datetime import datetime\n",
    "import matplotlib.pyplot as plt"
   ]
  },
  {
   "cell_type": "code",
   "execution_count": 3,
   "metadata": {},
   "outputs": [],
   "source": [
    "#utilities used by the backtester to simulate performance\n",
    "from utils.data_handler import HistoricCSVDataHandler #dataset loader\n",
    "from utils.portfolio import Portfolio #track balances, equity, etc.\n",
    "from utils.sim_execution_engine import ExecutionEngine, SimulatedExecutionEngine #order execution simulation\n",
    "from utils.strategy import Strategy #strategy baseclass"
   ]
  },
  {
   "cell_type": "code",
   "execution_count": 4,
   "metadata": {},
   "outputs": [],
   "source": [
    "from strategies.scinet_strategy import SCINET_Strategy #strategy based on SCINet output"
   ]
  },
  {
   "cell_type": "markdown",
   "metadata": {},
   "source": [
    "The class below defines the entire backtester that is used to simulate the performance of the SCINET_Strategy on a dataset. \n",
    "\n",
    "It first loads the data, then iterates through it entirely, prompting the strategy at each iteration. As the strategy outputs actions the performance and balances are tracked in the Portfolio class. At the end of the backtest the historic performance is plotted."
   ]
  },
  {
   "cell_type": "code",
   "execution_count": 5,
   "metadata": {},
   "outputs": [],
   "source": [
    "class Backtest:\n",
    "    \"\"\"\n",
    "    Contains the settings and components for carrying out\n",
    "    an event-driven backtest.\n",
    "    \"\"\"\n",
    "\n",
    "    def __init__(   self,\n",
    "                    data_handler: HistoricCSVDataHandler,\n",
    "                    execution_engine: ExecutionEngine,\n",
    "                    portfolio: Portfolio, \n",
    "                    strategy: Strategy,\n",
    "                    START: int,\n",
    "                    STOP: int,\n",
    "                    STEP: int,\n",
    "                    ) -> None:\n",
    "        \"\"\"\n",
    "        Initialize backtest.\n",
    "        Parameters:\n",
    "        -= data_handler: HistoricCSVDataHandler class\n",
    "        -= execution_engine: ExecutionEngine class\n",
    "        -= portfolio: Portfolio class\n",
    "        -= strategy: Strategy class\n",
    "        \"\"\"\n",
    "        \n",
    "        self.data_handler = data_handler\n",
    "        self.execution_engine = execution_engine\n",
    "        self.portfolio = portfolio\n",
    "        self.strategy = strategy\n",
    "\n",
    "        self.n_signals = 0\n",
    "        self.n_orders = 0\n",
    "        self.n_fills = 0\n",
    "\n",
    "        self.START = START\n",
    "        self.STOP = STOP\n",
    "        self.STEP = STEP\n",
    "\n",
    "\n",
    "    def run(self):\n",
    "        \"\"\"\n",
    "        Execute the backtest.\n",
    "        \"\"\"\n",
    "\n",
    "        print(f\"Starting backtest @ {datetime.utcnow()} UTC\")\n",
    "\n",
    "\n",
    "\n",
    "        for i in tqdm(range(self.START, self.STOP, self.STEP)):\n",
    "            latest_bar_data = self.data_handler.symbol_data.copy()\n",
    "    \n",
    "            for symbol in latest_bar_data:\n",
    "                latest_bar_data[symbol] = latest_bar_data[symbol].iloc[self.START:i + 1, :]\n",
    "            \n",
    "        \n",
    "            signal_event = self.strategy.calculate_signals(latest_bar_data)\n",
    "            if signal_event != None:\n",
    "                # print(signal_event)\n",
    "                self.n_signals += 1\n",
    "\n",
    "                order_event = self.portfolio.request_order(signal_event, latest_bar_data)\n",
    "                \n",
    "                if order_event != None:\n",
    "                    # print(order_event)\n",
    "                    self.n_orders += 1\n",
    "\n",
    "                    fill_event = self.execution_engine.execute_order(order_event)\n",
    "                    \n",
    "                    if fill_event != None:\n",
    "                        # print(fill_event)\n",
    "                        self.n_fills += 1\n",
    "\n",
    "                        self.portfolio.update_fill(fill_event, latest_bar_data)\n",
    "\n",
    "            self.portfolio.update_time_index(latest_bar_data)\n",
    "\n",
    "        self.print_performance(latest_bar_data)\n",
    "\n",
    "    def print_performance(self, data: dict):\n",
    "        \"\"\"\n",
    "        Outputs performance summary and stats\n",
    "        \"\"\"\n",
    "\n",
    "        stats, equity_curve = self.portfolio.output_summary_stats()\n",
    "        timestamps = np.array(equity_curve[\"timestamp\"])[1:]/1000\n",
    "        dates = [dt.datetime.fromtimestamp(ts) for ts in timestamps]\n",
    "        time = md.date2num(dates)\n",
    "\n",
    "        print(\"Stats summary:\")\n",
    "        print(stats)\n",
    "        print() \n",
    "\n",
    "        print(f\"Signal count: {self.n_signals}\")\n",
    "        print(f\"Order count: {self.n_orders}\")\n",
    "        print(f\"Fill count: {self.n_fills}\")\n",
    "        print()\n",
    "\n",
    "        print(f\"Creating equity curve chart...\")\n",
    "\n",
    "        plt.figure()\n",
    "        ax=plt.gca()\n",
    "        xfmt = md.DateFormatter('%Y-%m-%d %H:%M:%S')\n",
    "        ax.xaxis.set_major_formatter(xfmt)\n",
    "\n",
    "        ax.plot(time, np.array(equity_curve[\"total\"])[1:], color = \"black\", label = \"total\")\n",
    "\n",
    "        ax.hlines(  self.portfolio.initial_capital, \n",
    "                    time[0],\n",
    "                    time[-1],\n",
    "                    color = \"red\",\n",
    "                    linestyle = \"--\",\n",
    "                    label = \"initial equity\")\n",
    "\n",
    "        pricedata = np.array(data[\"BTCUSD\"][\"close\"])\n",
    "        ax.plot(time, pricedata/pricedata[240] * self.portfolio.initial_capital, label = \"B & H\")\n",
    "        \n",
    "        ax.set_title(\"Equity curve\")\n",
    "        ax.set_xlabel(\"Timestep\")\n",
    "        ax.set_ylabel(\"Equity\")\n",
    "        plt.xticks( rotation=25 )\n",
    "\n",
    "        ax.legend()\n",
    "        plt.tight_layout()\n",
    "        plt.show()\n"
   ]
  },
  {
   "cell_type": "markdown",
   "metadata": {},
   "source": [
    "### Example backtest"
   ]
  },
  {
   "cell_type": "markdown",
   "metadata": {},
   "source": [
    "The following code performs a backtest on three pairs (multivariate timeseries): BTCUSD, ETHUSD and LTCUSD. The backtest is done on the last 5000 datapoints, which can be changed very easily. The fees and initial capital are parameters that can be changed as well. Because of the possible extension to multiple strategies each strategy gets assigned an ID (0 in this case)."
   ]
  },
  {
   "cell_type": "markdown",
   "metadata": {},
   "source": [
    "Performance tracked:\n",
    "- Total return: percentage difference between starting and final equity\n",
    "- Sharpe ration: $\\frac{R_p - R_f}{\\sigma_p}$, where $R_p$ the total return, $R_f$ the risk-free return (0 in our case) and $\\sigma_p$ the standard deviation of portfolio returns.\n",
    "- Maximum drawdown: maximum peak to trough drawdown percentage\n",
    "- Drawdown duration: duration (in units of dataset) of maximum drawdown"
   ]
  },
  {
   "cell_type": "markdown",
   "metadata": {},
   "source": [
    "The strategy employed below is simple: SCINet outputs a prediction of the next $Y$ timesteps. If the last point of this prediction is an increase/decrease of more then $C$%, the strategy outputs to go long/short. In the case below, $C = 25$%. Note however, this parameter is rather arbitrary and entirely depends on the SCINet model. When SCINet outputs a less strong signal the strategy tells the portfolio to simply do nothing and hold on to any assets it currently owns."
   ]
  },
  {
   "cell_type": "code",
   "execution_count": 7,
   "metadata": {},
   "outputs": [
    {
     "name": "stdout",
     "output_type": "stream",
     "text": [
      "Found dataset BTCUSD.csv with size: (3465317, 6)\n",
      "Found dataset ETHUSD.csv with size: (2250562, 6)\n",
      "Found dataset LTCUSD.csv with size: (2110820, 6)\n",
      "WARNING: DID NOT SPECIFY MODEL WEIGHTS! BACKTESTING WITH RANDOM WEIGHT INIT.\n",
      "Model: \"model_1\"\n",
      "__________________________________________________________________________________________________\n",
      "Layer (type)                    Output Shape         Param #     Connected to                     \n",
      "==================================================================================================\n",
      "input_2 (InputLayer)            [(None, 240, 15)]    0                                            \n",
      "__________________________________________________________________________________________________\n",
      "Block_0 (SCINet)                (None, 24, 15)       3491460     input_2[0][0]                    \n",
      "__________________________________________________________________________________________________\n",
      "tf.concat_2 (TFOpLambda)        (None, 264, 15)      0           input_2[0][0]                    \n",
      "                                                                 Block_0[0][0]                    \n",
      "__________________________________________________________________________________________________\n",
      "cropping1d_2 (Cropping1D)       (None, 240, 15)      0           tf.concat_2[0][0]                \n",
      "__________________________________________________________________________________________________\n",
      "Block_1 (SCINet)                (None, 24, 15)       3491460     cropping1d_2[0][0]               \n",
      "__________________________________________________________________________________________________\n",
      "tf.concat_3 (TFOpLambda)        (None, 264, 15)      0           input_2[0][0]                    \n",
      "                                                                 Block_1[0][0]                    \n",
      "__________________________________________________________________________________________________\n",
      "cropping1d_3 (Cropping1D)       (None, 240, 15)      0           tf.concat_3[0][0]                \n",
      "__________________________________________________________________________________________________\n",
      "Block_2 (SCINet)                (None, 24, 1)        3572100     cropping1d_3[0][0]               \n",
      "==================================================================================================\n",
      "Total params: 10,555,020\n",
      "Trainable params: 10,555,020\n",
      "Non-trainable params: 0\n",
      "__________________________________________________________________________________________________\n",
      "None\n",
      "Starting backtest @ 2022-06-16 11:29:07.462090 UTC\n"
     ]
    },
    {
     "name": "stderr",
     "output_type": "stream",
     "text": [
      "100%|██████████| 4999/4999 [00:36<00:00, 136.10it/s]\n"
     ]
    },
    {
     "name": "stdout",
     "output_type": "stream",
     "text": [
      "Stats summary:\n",
      "{'Total Return': '2.45%', 'Sharpe Ratio': '3.57', 'Max Drawdown': '5.35%', 'Drawdown Duration': '1204.00 bars'}\n",
      "\n",
      "Signal count: 381\n",
      "Order count: 381\n",
      "Fill count: 381\n",
      "\n",
      "Creating equity curve chart...\n"
     ]
    },
    {
     "data": {
      "image/png": "[encoded data removed]",
      "text/plain": [
       "<Figure size 432x288 with 1 Axes>"
      ]
     },
     "metadata": {
      "needs_background": "light"
     },
     "output_type": "display_data"
    }
   ],
   "source": [
    "DATA_DIR = \"data/\"\n",
    "SYMBOLS = [\"BTCUSD\", \"ETHUSD\", \"LTCUSD\"]\n",
    "fees = 0.0\n",
    "INIT_CAPITAL = 1000.0\n",
    "\n",
    "START = -int(5e3)\n",
    "STOP = -1\n",
    "STEP = 1\n",
    "\n",
    "STRAT_ID = 0\n",
    "\n",
    "#initialize different components\n",
    "#data loader\n",
    "data_handler = HistoricCSVDataHandler(  data_dir = DATA_DIR,\n",
    "                                    symbol_list=SYMBOLS\n",
    "                                )\n",
    "\n",
    "#execution order for orders\n",
    "execution_engine = SimulatedExecutionEngine(fees)\n",
    "\n",
    "#portfolio\n",
    "portfolio = Portfolio(  bars = data_handler,\n",
    "                        initial_capital = INIT_CAPITAL)\n",
    "\n",
    "#scinet strategy\n",
    "strategy = SCINET_Strategy( STRAT_ID, \n",
    "                            n_features = int(5 * len(SYMBOLS)),\n",
    "                            threshold = 0.25,\n",
    "                            model_weights = None)\n",
    "\n",
    "#run backtest\n",
    "backtester = Backtest(  data_handler = data_handler,\n",
    "                        execution_engine = execution_engine,\n",
    "                        portfolio = portfolio,\n",
    "                        strategy = strategy,\n",
    "                        START = START,\n",
    "                        STOP = STOP, \n",
    "                        STEP = STEP)\n",
    "backtester.run()"
   ]
  },
  {
   "cell_type": "code",
   "execution_count": null,
   "metadata": {},
   "outputs": [],
   "source": []
  }
 ],
 "metadata": {
  "kernelspec": {
   "display_name": "Python 3.6.13 ('IDL')",
   "language": "python",
   "name": "python3"
  },
  "language_info": {
   "codemirror_mode": {
    "name": "ipython",
    "version": 3
   },
   "file_extension": ".py",
   "mimetype": "text/x-python",
   "name": "python",
   "nbconvert_exporter": "python",
   "pygments_lexer": "ipython3",
   "version": "3.6.13"
  },
  "orig_nbformat": 4,
  "vscode": {
   "interpreter": {
    "hash": "b0e883bdd8e75fb51e0b3ef9bce90386773c51c30bd0ece054f28d8a267d239d"
   }
  }
 },
 "nbformat": 4,
 "nbformat_minor": 2
}

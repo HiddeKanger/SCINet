{
 "cells": [
  {
   "cell_type": "markdown",
   "metadata": {},
   "source": [
    "# Hyperparameter optimization"
   ]
  },
  {
   "cell_type": "markdown",
   "metadata": {},
   "source": [
    "In this experiment the hyperparameters of the model will be optimized on cryptocurrency data. The original paper was released with optimized hyperparameters. But because they did not use cryptocurrency data, new experiments will be done for optimizing the model's hyperparameters on cryptocurrency data. This notebook is made to explain the parts of the code of the scripts. For this notebook the experiment on the learning rate is taken as an example."
   ]
  },
  {
   "cell_type": "markdown",
   "metadata": {},
   "source": [
    "## Imports"
   ]
  },
  {
   "cell_type": "markdown",
   "metadata": {},
   "source": [
    "First the necessary modules en scripts are imported."
   ]
  },
  {
   "cell_type": "code",
   "execution_count": 15,
   "metadata": {},
   "outputs": [],
   "source": [
    "from matplotlib.font_manager import json_dump\n",
    "import numpy as np\n",
    "import pandas as pd\n",
    "import numpy as np\n",
    "import matplotlib.pyplot as plt\n",
    "import random\n",
    "import os\n",
    "import sys\n",
    "import math\n",
    "from preprocess_data import preprocess\n",
    "\n",
    "WORKDIR_PATH = os.getcwd() + \"/../../\"\n",
    "sys.path.insert(1, WORKDIR_PATH)\n",
    "\n",
    "from base.train_scinet import train_scinet"
   ]
  },
  {
   "cell_type": "markdown",
   "metadata": {},
   "source": [
    "## Preprocessing"
   ]
  },
  {
   "cell_type": "markdown",
   "metadata": {},
   "source": [
    "In this part the data is being loaded and preprocessed. At first the settings of the preprocessing are defined."
   ]
  },
  {
   "cell_type": "code",
   "execution_count": 16,
   "metadata": {},
   "outputs": [],
   "source": [
    "data_format=[\"open\",\"high\",\"low\",\"close\",\"Volume BTC\",\"Volume USDT\",\"tradecount\"]\n",
    "                    \n",
    "fraction_used = 1\n",
    "train_frac = 0.6\n",
    "val_frac = 0.2\n",
    "test_frac = 0.2\n",
    "\n",
    "X_LEN = 48\n",
    "Y_LEN = 24\n",
    "RANDOM_SEED = 4321#None\n",
    "OVERLAPPING = True\n",
    "STANDARDIZE = True\n",
    "\n",
    "standardization_settings = {'per_sample': True,\n",
    "                            'leaky': False,\n",
    "                            'mode': 'log', #only if per sample is false, choose from log, sqrt or lin\n",
    "                            'sqrt_val': 2, #of course only if mode is sqrt\n",
    "                            'total mean': [],\n",
    "                            'total std': []}"
   ]
  },
  {
   "cell_type": "markdown",
   "metadata": {},
   "source": [
    "Then the dataset is loaded, splitted in samples and train/test sets, and the samples are being normalized."
   ]
  },
  {
   "cell_type": "code",
   "execution_count": 17,
   "metadata": {},
   "outputs": [
    {
     "name": "stdout",
     "output_type": "stream",
     "text": [
      "Starting data preprocessing...\n",
      "   48740.22  48745.96  48727.47  48727.47.1   2.27206  110730.9135  136.0\n",
      "0  48763.11  48763.12  48736.70    48736.73   5.33108  259880.1205  427.0\n",
      "1  48778.58  48778.58  48750.37    48763.12   6.87389  335219.0368  389.0\n",
      "2  48760.37  48778.58  48746.39    48778.58  10.58951  516291.2896  425.0\n",
      "3  48799.99  48800.00  48756.93    48760.37  12.24525  597357.8390  535.0\n",
      "4  48795.99  48800.00  48795.99    48800.00   7.55759  368810.1891  423.0 (49997, 7)\n",
      "Making train/validation/test splits...\n",
      "Making samples...\n"
     ]
    },
    {
     "name": "stderr",
     "output_type": "stream",
     "text": [
      "100%|████████████████████████████████████| 29926/29926 [00:32<00:00, 933.44it/s]\n",
      "/Users/lindsayspoor/Library/Mobile Documents/com~apple~CloudDocs/Documents/Studiedocumenten/2021-2022/ADL/SCINet_repo/exp/hyperparams/preprocess_data.py:138: VisibleDeprecationWarning: Creating an ndarray from ragged nested sequences (which is a list-or-tuple of lists-or-tuples-or ndarrays with different lengths or shapes) is deprecated. If you meant to do this, you must specify 'dtype=object' when creating the ndarray.\n",
      "  samples = np.array(samples)\n"
     ]
    },
    {
     "name": "stdout",
     "output_type": "stream",
     "text": [
      "Making samples...\n"
     ]
    },
    {
     "name": "stderr",
     "output_type": "stream",
     "text": [
      "100%|██████████████████████████████████████| 9927/9927 [00:12<00:00, 764.35it/s]\n"
     ]
    },
    {
     "name": "stdout",
     "output_type": "stream",
     "text": [
      "Making samples...\n"
     ]
    },
    {
     "name": "stderr",
     "output_type": "stream",
     "text": [
      "100%|██████████████████████████████████████| 9928/9928 [00:10<00:00, 981.23it/s]\n"
     ]
    },
    {
     "name": "stdout",
     "output_type": "stream",
     "text": [
      "Making X-y splits...\n"
     ]
    }
   ],
   "source": [
    "pairs = [\"HUFL\", \"HULL\", \"MUFL\", \"MULL\", \"LUFL\", \"LULL\", \"OT\"]\n",
    "\n",
    "#df = pd.read_csv(os.path.realpath(__file__) + f\"/../data/Data_preprocessed/ETTh1.csv\").dropna()\n",
    "df = pd.read_csv(os.getcwd() + \"/data/Binance_BTCUSDT_minute.csv\").dropna()\n",
    "df = df.swapaxes(\"index\", \"columns\")\n",
    "\n",
    "data = {} \n",
    "for idx, pair in enumerate(pairs):\n",
    "    data[pair] = df.iloc[idx]\n",
    " \n",
    "results = preprocess(   data = data, \n",
    "                        symbols = pairs,\n",
    "                        data_format = data_format,\n",
    "                        fraction = fraction_used,\n",
    "                        train_frac = train_frac,\n",
    "                        val_frac = val_frac,\n",
    "                        test_frac = test_frac,\n",
    "                        X_LEN = X_LEN,\n",
    "                        Y_LEN = Y_LEN,\n",
    "                        OVERLAPPING = OVERLAPPING,\n",
    "                        STANDARDIZE = STANDARDIZE,\n",
    "                        standardization_settings = standardization_settings\n",
    "                        )"
   ]
  },
  {
   "cell_type": "markdown",
   "metadata": {},
   "source": [
    "## Training"
   ]
  },
  {
   "cell_type": "markdown",
   "metadata": {},
   "source": [
    "Then the model can be trained. At first the hyperparameters which are not being optimized are defined."
   ]
  },
  {
   "cell_type": "code",
   "execution_count": 18,
   "metadata": {},
   "outputs": [],
   "source": [
    "EPOCHS = 10\n",
    "BATCH_SIZE = 8\n",
    "HID_SIZE = 4\n",
    "NUM_LEVELS = 3\n",
    "KERNEL_SIZE = 5\n",
    "DROPOUT = 0.5\n",
    "PROBABILISTIC = False"
   ]
  },
  {
   "cell_type": "markdown",
   "metadata": {},
   "source": [
    "Then some values of the parameter to be tuned (in this case the learning rate) are defined. For each value of this parameter a model is trained and it's performance on the validation set is saved for plotting later on."
   ]
  },
  {
   "cell_type": "code",
   "execution_count": 19,
   "metadata": {},
   "outputs": [
    {
     "name": "stdout",
     "output_type": "stream",
     "text": [
      "===========================[SCINET]=====================================\n",
      "Initializing training with data:\n",
      "X_train: (29926, 48, 7), y_train: (29926, 24, 7)\n",
      "X_val: (9927, 48, 7), y_val: (9927, 24, 7)\n",
      "X_test: (9928, 48, 7), y_test: (9928, 24, 7)\n",
      "Building model...\n"
     ]
    },
    {
     "name": "stderr",
     "output_type": "stream",
     "text": [
      "2022-06-23 13:26:31.816386: I tensorflow/core/platform/cpu_feature_guard.cc:142] This TensorFlow binary is optimized with oneAPI Deep Neural Network Library (oneDNN) to use the following CPU instructions in performance-critical operations:  AVX2 FMA\n",
      "To enable them in other operations, rebuild TensorFlow with the appropriate compiler flags.\n"
     ]
    },
    {
     "name": "stdout",
     "output_type": "stream",
     "text": [
      "Model: \"model\"\n",
      "_________________________________________________________________\n",
      "Layer (type)                 Output Shape              Param #   \n",
      "=================================================================\n",
      "input_1 (InputLayer)         [(None, 48, 7)]           0         \n",
      "_________________________________________________________________\n",
      "Block_0 (SCINet)             (None, 24, 7)             97332     \n",
      "=================================================================\n",
      "Total params: 97,332\n",
      "Trainable params: 97,332\n",
      "Non-trainable params: 0\n",
      "_________________________________________________________________\n",
      "None\n",
      "Is null X: 0\n",
      "Is null y: 0\n",
      "Epoch 1/10\n"
     ]
    },
    {
     "name": "stderr",
     "output_type": "stream",
     "text": [
      "2022-06-23 13:26:35.591645: I tensorflow/compiler/mlir/mlir_graph_optimization_pass.cc:185] None of the MLIR Optimization Passes are enabled (registered 2)\n"
     ]
    },
    {
     "name": "stdout",
     "output_type": "stream",
     "text": [
      "3741/3741 [==============================] - 128s 28ms/step - loss: 1.5126 - val_loss: 1.6476\n",
      "Epoch 2/10\n",
      "3741/3741 [==============================] - 101s 27ms/step - loss: 1.5440 - val_loss: 1.4784\n",
      "Epoch 3/10\n",
      "3741/3741 [==============================] - 111s 30ms/step - loss: 1.5642 - val_loss: 1.4701\n",
      "Epoch 4/10\n",
      "3741/3741 [==============================] - 121s 32ms/step - loss: 1.5165 - val_loss: 1.5331\n",
      "Epoch 5/10\n",
      "3741/3741 [==============================] - 120s 32ms/step - loss: 1.5521 - val_loss: 1.5013\n",
      "Epoch 6/10\n",
      "3741/3741 [==============================] - 117s 31ms/step - loss: 1.5902 - val_loss: 1.4738\n",
      "Epoch 7/10\n",
      "3741/3741 [==============================] - 114s 31ms/step - loss: 1.5575 - val_loss: 1.6858\n",
      "Epoch 8/10\n",
      "3741/3741 [==============================] - 115s 31ms/step - loss: 1.6259 - val_loss: 1.5474\n",
      "Epoch 9/10\n",
      "3741/3741 [==============================] - 118s 32ms/step - loss: 1.5690 - val_loss: 1.4900\n",
      "Epoch 10/10\n",
      "3741/3741 [==============================] - 116s 31ms/step - loss: 1.5220 - val_loss: 1.4566\n"
     ]
    },
    {
     "name": "stderr",
     "output_type": "stream",
     "text": [
      "2022-06-23 13:46:14.910645: W tensorflow/python/util/util.cc:348] Sets are not currently considered sequences, but this may change in the future, so consider avoiding using them.\n",
      "WARNING:absl:Found untraced functions such as sci_net__tree_layer_call_and_return_conditional_losses, sci_net__tree_layer_call_fn, conv1d_120_layer_call_and_return_conditional_losses, conv1d_120_layer_call_fn, sci_block_layer_call_and_return_conditional_losses while saving (showing 5 of 1955). These functions will not be directly callable after loading.\n"
     ]
    },
    {
     "name": "stdout",
     "output_type": "stream",
     "text": [
      "INFO:tensorflow:Assets written to: saved_models/model_learning_rate_0.1/assets\n"
     ]
    },
    {
     "name": "stderr",
     "output_type": "stream",
     "text": [
      "INFO:tensorflow:Assets written to: saved_models/model_learning_rate_0.1/assets\n"
     ]
    },
    {
     "name": "stdout",
     "output_type": "stream",
     "text": [
      "===========================[SCINET]=====================================\n",
      "Initializing training with data:\n",
      "X_train: (29926, 48, 7), y_train: (29926, 24, 7)\n",
      "X_val: (9927, 48, 7), y_val: (9927, 24, 7)\n",
      "X_test: (9928, 48, 7), y_test: (9928, 24, 7)\n",
      "Building model...\n",
      "Model: \"model_1\"\n",
      "_________________________________________________________________\n",
      "Layer (type)                 Output Shape              Param #   \n",
      "=================================================================\n",
      "input_2 (InputLayer)         [(None, 48, 7)]           0         \n",
      "_________________________________________________________________\n",
      "Block_0 (SCINet)             (None, 24, 7)             97332     \n",
      "=================================================================\n",
      "Total params: 97,332\n",
      "Trainable params: 97,332\n",
      "Non-trainable params: 0\n",
      "_________________________________________________________________\n",
      "None\n",
      "Is null X: 0\n",
      "Is null y: 0\n",
      "Epoch 1/10\n",
      "3741/3741 [==============================] - 121s 26ms/step - loss: 1.1627 - val_loss: 1.1578\n",
      "Epoch 2/10\n",
      "3741/3741 [==============================] - 107s 29ms/step - loss: 1.1525 - val_loss: 1.1493\n",
      "Epoch 3/10\n",
      "3741/3741 [==============================] - 111s 30ms/step - loss: 1.1497 - val_loss: 1.1616\n",
      "Epoch 4/10\n",
      "3741/3741 [==============================] - 117s 31ms/step - loss: 1.1471 - val_loss: 1.1491\n",
      "Epoch 5/10\n",
      "3741/3741 [==============================] - 112s 30ms/step - loss: 1.1529 - val_loss: 1.1634\n",
      "Epoch 6/10\n",
      "3741/3741 [==============================] - 120s 32ms/step - loss: 1.1536 - val_loss: 1.1549\n",
      "Epoch 7/10\n",
      "3741/3741 [==============================] - 122s 33ms/step - loss: 1.1558 - val_loss: 1.1712\n",
      "Epoch 8/10\n",
      "3741/3741 [==============================] - 124s 33ms/step - loss: 1.1546 - val_loss: 1.1683\n",
      "Epoch 9/10\n",
      "3741/3741 [==============================] - 133s 36ms/step - loss: 1.1513 - val_loss: 1.1576\n",
      "Epoch 10/10\n",
      "3741/3741 [==============================] - 127s 34ms/step - loss: 1.1497 - val_loss: 1.1542\n"
     ]
    },
    {
     "name": "stderr",
     "output_type": "stream",
     "text": [
      "WARNING:absl:Found untraced functions such as sci_net__tree_15_layer_call_and_return_conditional_losses, sci_net__tree_15_layer_call_fn, conv1d_241_layer_call_and_return_conditional_losses, conv1d_241_layer_call_fn, sci_block_15_layer_call_and_return_conditional_losses while saving (showing 5 of 1955). These functions will not be directly callable after loading.\n"
     ]
    },
    {
     "name": "stdout",
     "output_type": "stream",
     "text": [
      "INFO:tensorflow:Assets written to: saved_models/model_learning_rate_0.01/assets\n"
     ]
    },
    {
     "name": "stderr",
     "output_type": "stream",
     "text": [
      "INFO:tensorflow:Assets written to: saved_models/model_learning_rate_0.01/assets\n"
     ]
    },
    {
     "name": "stdout",
     "output_type": "stream",
     "text": [
      "===========================[SCINET]=====================================\n",
      "Initializing training with data:\n",
      "X_train: (29926, 48, 7), y_train: (29926, 24, 7)\n",
      "X_val: (9927, 48, 7), y_val: (9927, 24, 7)\n",
      "X_test: (9928, 48, 7), y_test: (9928, 24, 7)\n",
      "Building model...\n",
      "Model: \"model_2\"\n",
      "_________________________________________________________________\n",
      "Layer (type)                 Output Shape              Param #   \n",
      "=================================================================\n",
      "input_3 (InputLayer)         [(None, 48, 7)]           0         \n",
      "_________________________________________________________________\n",
      "Block_0 (SCINet)             (None, 24, 7)             97332     \n",
      "=================================================================\n",
      "Total params: 97,332\n",
      "Trainable params: 97,332\n",
      "Non-trainable params: 0\n",
      "_________________________________________________________________\n",
      "None\n",
      "Is null X: 0\n",
      "Is null y: 0\n",
      "Epoch 1/10\n",
      "3741/3741 [==============================] - 139s 31ms/step - loss: 1.1190 - val_loss: 1.0103\n",
      "Epoch 2/10\n",
      "3741/3741 [==============================] - 111s 30ms/step - loss: 0.9869 - val_loss: 1.0052\n",
      "Epoch 3/10\n",
      "3741/3741 [==============================] - 112s 30ms/step - loss: 0.9624 - val_loss: 0.9853\n",
      "Epoch 4/10\n",
      "3741/3741 [==============================] - 124s 33ms/step - loss: 0.9478 - val_loss: 1.0292\n",
      "Epoch 5/10\n",
      "3741/3741 [==============================] - 123s 33ms/step - loss: 0.9376 - val_loss: 0.9908\n",
      "Epoch 6/10\n",
      "3741/3741 [==============================] - 147s 39ms/step - loss: 0.9292 - val_loss: 0.9853\n",
      "Epoch 7/10\n",
      "3741/3741 [==============================] - 151s 40ms/step - loss: 0.9224 - val_loss: 1.0007\n",
      "Epoch 8/10\n",
      "3741/3741 [==============================] - 139s 37ms/step - loss: 0.9189 - val_loss: 0.9895\n",
      "Epoch 9/10\n",
      "3741/3741 [==============================] - 138s 37ms/step - loss: 0.9155 - val_loss: 1.0009\n",
      "Epoch 10/10\n",
      "3741/3741 [==============================] - 127s 34ms/step - loss: 0.9101 - val_loss: 1.0029\n"
     ]
    },
    {
     "name": "stderr",
     "output_type": "stream",
     "text": [
      "WARNING:absl:Found untraced functions such as sci_net__tree_30_layer_call_and_return_conditional_losses, sci_net__tree_30_layer_call_fn, conv1d_362_layer_call_and_return_conditional_losses, conv1d_362_layer_call_fn, sci_block_30_layer_call_and_return_conditional_losses while saving (showing 5 of 1955). These functions will not be directly callable after loading.\n"
     ]
    },
    {
     "name": "stdout",
     "output_type": "stream",
     "text": [
      "INFO:tensorflow:Assets written to: saved_models/model_learning_rate_0.001/assets\n"
     ]
    },
    {
     "name": "stderr",
     "output_type": "stream",
     "text": [
      "INFO:tensorflow:Assets written to: saved_models/model_learning_rate_0.001/assets\n"
     ]
    },
    {
     "name": "stdout",
     "output_type": "stream",
     "text": [
      "===========================[SCINET]=====================================\n",
      "Initializing training with data:\n",
      "X_train: (29926, 48, 7), y_train: (29926, 24, 7)\n",
      "X_val: (9927, 48, 7), y_val: (9927, 24, 7)\n",
      "X_test: (9928, 48, 7), y_test: (9928, 24, 7)\n",
      "Building model...\n",
      "Model: \"model_3\"\n",
      "_________________________________________________________________\n",
      "Layer (type)                 Output Shape              Param #   \n",
      "=================================================================\n",
      "input_4 (InputLayer)         [(None, 48, 7)]           0         \n",
      "_________________________________________________________________\n",
      "Block_0 (SCINet)             (None, 24, 7)             97332     \n",
      "=================================================================\n",
      "Total params: 97,332\n",
      "Trainable params: 97,332\n",
      "Non-trainable params: 0\n",
      "_________________________________________________________________\n",
      "None\n",
      "Is null X: 0\n",
      "Is null y: 0\n",
      "Epoch 1/10\n",
      "3741/3741 [==============================] - 131s 28ms/step - loss: 1.6149 - val_loss: 1.2388\n",
      "Epoch 2/10\n",
      "3741/3741 [==============================] - 82s 22ms/step - loss: 1.1550 - val_loss: 1.0837\n",
      "Epoch 3/10\n",
      "3741/3741 [==============================] - 84s 23ms/step - loss: 1.0510 - val_loss: 1.0359\n",
      "Epoch 4/10\n",
      "3741/3741 [==============================] - 84s 23ms/step - loss: 1.0164 - val_loss: 1.0216\n",
      "Epoch 5/10\n",
      "3741/3741 [==============================] - 82s 22ms/step - loss: 0.9967 - val_loss: 0.9992\n",
      "Epoch 6/10\n",
      "3741/3741 [==============================] - 98s 26ms/step - loss: 0.9816 - val_loss: 1.0016\n",
      "Epoch 7/10\n",
      "3741/3741 [==============================] - 102s 27ms/step - loss: 0.9727 - val_loss: 0.9918\n",
      "Epoch 8/10\n",
      "3741/3741 [==============================] - 90s 24ms/step - loss: 0.9627 - val_loss: 0.9900\n",
      "Epoch 9/10\n",
      "3741/3741 [==============================] - 81s 22ms/step - loss: 0.9577 - val_loss: 0.9826\n",
      "Epoch 10/10\n",
      "3741/3741 [==============================] - 93s 25ms/step - loss: 0.9493 - val_loss: 0.9806\n"
     ]
    },
    {
     "name": "stderr",
     "output_type": "stream",
     "text": [
      "WARNING:absl:Found untraced functions such as sci_net__tree_45_layer_call_and_return_conditional_losses, sci_net__tree_45_layer_call_fn, conv1d_483_layer_call_and_return_conditional_losses, conv1d_483_layer_call_fn, sci_block_45_layer_call_and_return_conditional_losses while saving (showing 5 of 1955). These functions will not be directly callable after loading.\n"
     ]
    },
    {
     "name": "stdout",
     "output_type": "stream",
     "text": [
      "INFO:tensorflow:Assets written to: saved_models/model_learning_rate_0.0001/assets\n"
     ]
    },
    {
     "name": "stderr",
     "output_type": "stream",
     "text": [
      "INFO:tensorflow:Assets written to: saved_models/model_learning_rate_0.0001/assets\n"
     ]
    }
   ],
   "source": [
    "LEARNING_RATES = [0.1, 0.01, 0.001, 0.0001]\n",
    "\n",
    "train_losses = np.zeros((len(LEARNING_RATES), EPOCHS))\n",
    "val_losses = np.zeros((len(LEARNING_RATES), EPOCHS))\n",
    "for idx, LEARNING_RATE in enumerate(LEARNING_RATES):\n",
    "\n",
    "    model, history, X_train , y_train, X_val, y_val, X_test, y_test = train_scinet( X_train = results[\"X_train\"].astype('float32'),\n",
    "                                                                                    y_train = results[\"y_train\"].astype('float32'),\n",
    "                                                                                    X_val = results[\"X_val\"].astype('float32'),\n",
    "                                                                                    y_val = results[\"y_val\"].astype('float32'),\n",
    "                                                                                    X_test = results[\"X_test\"].astype('float32'),\n",
    "                                                                                    y_test = results[\"y_test\"].astype('float32'),\n",
    "                                                                                    epochs = EPOCHS,\n",
    "                                                                                    batch_size = BATCH_SIZE,\n",
    "                                                                                    X_LEN = X_LEN,\n",
    "                                                                                    Y_LEN = [Y_LEN],\n",
    "                                                                                    output_dim = [results[\"X_train\"].shape[2]],\n",
    "                                                                                    selected_columns = None,\n",
    "                                                                                    hid_size= HID_SIZE,\n",
    "                                                                                    num_levels= NUM_LEVELS,\n",
    "                                                                                    kernel = KERNEL_SIZE,\n",
    "                                                                                    dropout = DROPOUT,\n",
    "                                                                                    loss_weights= [1],\n",
    "                                                                                    learning_rate = LEARNING_RATE,\n",
    "                                                                                    probabilistic = PROBABILISTIC)\n",
    "\n",
    "    train_loss = history.history['loss']\n",
    "    train_losses[idx] = train_loss\n",
    "\n",
    "    val_loss = history.history['val_loss']\n",
    "    val_losses[idx] = val_loss\n",
    "    \n",
    "    model.save(f'saved_models/model_learning_rate_{LEARNING_RATE}')"
   ]
  },
  {
   "cell_type": "markdown",
   "metadata": {},
   "source": [
    "## Plotting"
   ]
  },
  {
   "cell_type": "markdown",
   "metadata": {},
   "source": [
    "Here the performance of each model on the validation set is compared using a plot. The hyperparamer of the model with the lowest loss in the validation set can be selected as the optimal value."
   ]
  },
  {
   "cell_type": "code",
   "execution_count": 20,
   "metadata": {},
   "outputs": [
    {
     "name": "stderr",
     "output_type": "stream",
     "text": [
      "WARNING:matplotlib.legend:No handles with labels found to put in legend.\n"
     ]
    },
    {
     "name": "stdout",
     "output_type": "stream",
     "text": [
      "[1.6475629806518555, 1.1578296422958374, 1.0103024244308472, 1.2387771606445312]\n"
     ]
    },
    {
     "data": {
      "image/png": "[encoded data removed]",
      "text/plain": [
       "<Figure size 432x288 with 1 Axes>"
      ]
     },
     "metadata": {
      "needs_background": "light"
     },
     "output_type": "display_data"
    }
   ],
   "source": [
    "\n",
    "from utils.plotting import plot_barplot\n",
    "\n",
    "\n",
    "hyperparameter_type='LearningRate'\n",
    "\n",
    "\n",
    "\n",
    "plot_barplot(LEARNING_RATES, val_losses, hyperparameter_type)"
   ]
  },
  {
   "cell_type": "code",
   "execution_count": null,
   "metadata": {},
   "outputs": [],
   "source": []
  }
 ],
 "metadata": {
  "kernelspec": {
   "display_name": "Python 3 (ipykernel)",
   "language": "python",
   "name": "python3"
  },
  "language_info": {
   "codemirror_mode": {
    "name": "ipython",
    "version": 3
   },
   "file_extension": ".py",
   "mimetype": "text/x-python",
   "name": "python",
   "nbconvert_exporter": "python",
   "pygments_lexer": "ipython3",
   "version": "3.8.12"
  },
  "vscode": {
   "interpreter": {
    "hash": "e0d398e7c3cc3d2b8386dfea47f5eae3378d5d39db7e2c8ef87e93246db0bfd2"
   }
  }
 },
 "nbformat": 4,
 "nbformat_minor": 2
}

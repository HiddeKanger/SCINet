{
 "cells": [
  {
   "cell_type": "markdown",
   "metadata": {},
   "source": [
    "# Hyperparameter optimization"
   ]
  },
  {
   "cell_type": "markdown",
   "metadata": {},
   "source": [
    "In this experiment the hyperparameters of the model will be optimized on cryptocurrency data. The original paper was released with optimized hyperparameters. But because they did not use cryptocurrency data, new experiments will be done for optimizing the model's hyperparameters on cryptocurrency data. This notebook is made to explain the parts of the code of the scripts. For this notebook the experiment on the learning rate is taken as an example."
   ]
  },
  {
   "cell_type": "markdown",
   "metadata": {},
   "source": [
    "## Imports"
   ]
  },
  {
   "cell_type": "markdown",
   "metadata": {},
   "source": [
    "First the necessary modules en scripts are imported."
   ]
  },
  {
   "cell_type": "code",
   "execution_count": 1,
   "metadata": {},
   "outputs": [],
   "source": [
    "from matplotlib.font_manager import json_dump\n",
    "import numpy as np\n",
    "import pandas as pd\n",
    "import numpy as np\n",
    "import matplotlib.pyplot as plt\n",
    "import random\n",
    "import os\n",
    "import sys\n",
    "import math\n",
    "from preprocess_data import preprocess\n",
    "\n",
    "WORKDIR_PATH = os.getcwd() + \"/../../\"\n",
    "sys.path.insert(1, WORKDIR_PATH)\n",
    "\n",
    "from base.train_scinet import train_scinet"
   ]
  },
  {
   "cell_type": "markdown",
   "metadata": {},
   "source": [
    "## Preprocessing"
   ]
  },
  {
   "cell_type": "markdown",
   "metadata": {},
   "source": [
    "In this part the data is being loaded and preprocessed. At first the settings of the preprocessing are defined."
   ]
  },
  {
   "cell_type": "code",
   "execution_count": 2,
   "metadata": {},
   "outputs": [],
   "source": [
    "#data_format = [\"timestamp\",\"open\",\"high\",\"low\",\"close\",\"volume\",]\n",
    "data_format = [\"price\"]\n",
    "                    \n",
    "fraction_used = 1\n",
    "train_frac = 0.6\n",
    "val_frac = 0.2\n",
    "test_frac = 0.2\n",
    "\n",
    "X_LEN = 48\n",
    "Y_LEN = 24\n",
    "RANDOM_SEED = 4321#None\n",
    "OVERLAPPING = True\n",
    "STANDARDIZE = True\n",
    "\n",
    "standardization_settings = {'per_sample': True,\n",
    "                            'leaky': False,\n",
    "                            'mode': 'log', #only if per sample is false, choose from log, sqrt or lin\n",
    "                            'sqrt_val': 2, #of course only if mode is sqrt\n",
    "                            'total mean': [],\n",
    "                            'total std': []}"
   ]
  },
  {
   "cell_type": "markdown",
   "metadata": {},
   "source": [
    "Then the dataset is loaded, splitted in samples and train/test sets, and the samples are being normalized."
   ]
  },
  {
   "cell_type": "code",
   "execution_count": 3,
   "metadata": {},
   "outputs": [
    {
     "name": "stdout",
     "output_type": "stream",
     "text": [
      "Starting data preprocessing...\n",
      "   48740.22  48745.96  48727.47  48727.47.1   2.27206  110730.9135  136.0\n",
      "0  48763.11  48763.12  48736.70    48736.73   5.33108  259880.1205  427.0\n",
      "1  48778.58  48778.58  48750.37    48763.12   6.87389  335219.0368  389.0\n",
      "2  48760.37  48778.58  48746.39    48778.58  10.58951  516291.2896  425.0\n",
      "3  48799.99  48800.00  48756.93    48760.37  12.24525  597357.8390  535.0\n",
      "4  48795.99  48800.00  48795.99    48800.00   7.55759  368810.1891  423.0 (49997, 7)\n",
      "Making train/validation/test splits...\n",
      "Making samples...\n"
     ]
    },
    {
     "name": "stderr",
     "output_type": "stream",
     "text": [
      "100%|██████████| 29926/29926 [00:13<00:00, 2250.63it/s]\n",
      "e:\\Documenten\\GitHub\\SCINet-trader\\exp\\hyperparams\\preprocess_data.py:138: VisibleDeprecationWarning: Creating an ndarray from ragged nested sequences (which is a list-or-tuple of lists-or-tuples-or ndarrays with different lengths or shapes) is deprecated. If you meant to do this, you must specify 'dtype=object' when creating the ndarray.\n",
      "  samples = np.array(samples)\n"
     ]
    },
    {
     "name": "stdout",
     "output_type": "stream",
     "text": [
      "Making samples...\n"
     ]
    },
    {
     "name": "stderr",
     "output_type": "stream",
     "text": [
      "100%|██████████| 9927/9927 [00:04<00:00, 2366.05it/s]\n"
     ]
    },
    {
     "name": "stdout",
     "output_type": "stream",
     "text": [
      "Making samples...\n"
     ]
    },
    {
     "name": "stderr",
     "output_type": "stream",
     "text": [
      "100%|██████████| 9928/9928 [00:04<00:00, 2416.95it/s]\n"
     ]
    },
    {
     "name": "stdout",
     "output_type": "stream",
     "text": [
      "Making X-y splits...\n"
     ]
    }
   ],
   "source": [
    "pairs = [\"HUFL\", \"HULL\", \"MUFL\", \"MULL\", \"LUFL\", \"LULL\", \"OT\"]\n",
    "\n",
    "#df = pd.read_csv(os.path.realpath(__file__) + f\"/../data/Data_preprocessed/ETTh1.csv\").dropna()\n",
    "df = pd.read_csv(os.getcwd() + \"/data/Binance_BTCUSDT_minute.csv\").dropna()\n",
    "df = df.swapaxes(\"index\", \"columns\")\n",
    "\n",
    "data = {} \n",
    "for idx, pair in enumerate(pairs):\n",
    "    data[pair] = df.iloc[idx]\n",
    " \n",
    "results = preprocess(   data = data, \n",
    "                        symbols = pairs,\n",
    "                        data_format = data_format,\n",
    "                        fraction = fraction_used,\n",
    "                        train_frac = train_frac,\n",
    "                        val_frac = val_frac,\n",
    "                        test_frac = test_frac,\n",
    "                        X_LEN = X_LEN,\n",
    "                        Y_LEN = Y_LEN,\n",
    "                        OVERLAPPING = OVERLAPPING,\n",
    "                        STANDARDIZE = STANDARDIZE,\n",
    "                        standardization_settings = standardization_settings\n",
    "                        )"
   ]
  },
  {
   "cell_type": "markdown",
   "metadata": {},
   "source": [
    "## Training"
   ]
  },
  {
   "cell_type": "markdown",
   "metadata": {},
   "source": [
    "Then the model can be trained. At first the hyperparameters which are not being optimized are defined."
   ]
  },
  {
   "cell_type": "code",
   "execution_count": 4,
   "metadata": {},
   "outputs": [],
   "source": [
    "EPOCHS = 10\n",
    "BATCH_SIZE = 8\n",
    "HID_SIZE = 4\n",
    "NUM_LEVELS = 3\n",
    "KERNEL_SIZE = 5\n",
    "DROPOUT = 0.5\n",
    "PROBABILISTIC = False"
   ]
  },
  {
   "cell_type": "markdown",
   "metadata": {},
   "source": [
    "Then some values of the parameter to be tuned (in this case the learning rate) are defined. For each value of this parameter a model is trained and it's performance on the validation set is saved for plotting later on."
   ]
  },
  {
   "cell_type": "code",
   "execution_count": 5,
   "metadata": {},
   "outputs": [
    {
     "name": "stdout",
     "output_type": "stream",
     "text": [
      "===========================[SCINET]=====================================\n",
      "Initializing training with data:\n",
      "X_train: (29926, 48, 7), y_train: (29926, 24, 7)\n",
      "X_val: (9927, 48, 7), y_val: (9927, 24, 7)\n",
      "X_test: (9928, 48, 7), y_test: (9928, 24, 7)\n",
      "Building model...\n",
      "Model: \"model\"\n",
      "_________________________________________________________________\n",
      " Layer (type)                Output Shape              Param #   \n",
      "=================================================================\n",
      " input_1 (InputLayer)        [(None, 48, 7)]           0         \n",
      "                                                                 \n",
      " Block_0 (SCINet)            (None, 24, 7)             97332     \n",
      "                                                                 \n",
      "=================================================================\n",
      "Total params: 97,332\n",
      "Trainable params: 97,332\n",
      "Non-trainable params: 0\n",
      "_________________________________________________________________\n",
      "None\n",
      "Is null X: 0\n",
      "Is null y: 0\n",
      "Epoch 1/10\n",
      "3741/3741 [==============================] - 132s 30ms/step - loss: 1.4839 - val_loss: 1.5095\n",
      "Epoch 2/10\n",
      "3741/3741 [==============================] - 113s 30ms/step - loss: 1.5077 - val_loss: 1.5578\n",
      "Epoch 3/10\n",
      "3741/3741 [==============================] - 111s 30ms/step - loss: 1.5793 - val_loss: 1.7365\n",
      "Epoch 4/10\n",
      "3741/3741 [==============================] - 111s 30ms/step - loss: 1.5784 - val_loss: 1.5275\n",
      "Epoch 5/10\n",
      "3741/3741 [==============================] - 111s 30ms/step - loss: 1.5336 - val_loss: 1.6140\n",
      "Epoch 6/10\n",
      "3741/3741 [==============================] - 111s 30ms/step - loss: 1.5379 - val_loss: 1.5037\n",
      "Epoch 7/10\n",
      "3741/3741 [==============================] - 111s 30ms/step - loss: 1.5771 - val_loss: 1.6072\n",
      "Epoch 8/10\n",
      "3741/3741 [==============================] - 116s 31ms/step - loss: 1.5459 - val_loss: 1.6394\n",
      "Epoch 9/10\n",
      "3741/3741 [==============================] - 112s 30ms/step - loss: 1.5541 - val_loss: 1.5591\n",
      "Epoch 10/10\n",
      "3741/3741 [==============================] - 102s 27ms/step - loss: 1.5317 - val_loss: 1.4913\n",
      "===========================[SCINET]=====================================\n",
      "Initializing training with data:\n",
      "X_train: (29926, 48, 7), y_train: (29926, 24, 7)\n",
      "X_val: (9927, 48, 7), y_val: (9927, 24, 7)\n",
      "X_test: (9928, 48, 7), y_test: (9928, 24, 7)\n",
      "Building model...\n",
      "Model: \"model_1\"\n",
      "_________________________________________________________________\n",
      " Layer (type)                Output Shape              Param #   \n",
      "=================================================================\n",
      " input_2 (InputLayer)        [(None, 48, 7)]           0         \n",
      "                                                                 \n",
      " Block_0 (SCINet)            (None, 24, 7)             97332     \n",
      "                                                                 \n",
      "=================================================================\n",
      "Total params: 97,332\n",
      "Trainable params: 97,332\n",
      "Non-trainable params: 0\n",
      "_________________________________________________________________\n",
      "None\n",
      "Is null X: 0\n",
      "Is null y: 0\n",
      "Epoch 1/10\n",
      "3741/3741 [==============================] - 153s 36ms/step - loss: 1.1578 - val_loss: 1.1448\n",
      "Epoch 2/10\n",
      "3741/3741 [==============================] - 113s 30ms/step - loss: 1.1483 - val_loss: 1.1543\n",
      "Epoch 3/10\n",
      "3741/3741 [==============================] - 113s 30ms/step - loss: 1.1522 - val_loss: 1.1320\n",
      "Epoch 4/10\n",
      "3741/3741 [==============================] - 113s 30ms/step - loss: 1.1457 - val_loss: 1.1397\n",
      "Epoch 5/10\n",
      "3741/3741 [==============================] - 113s 30ms/step - loss: 1.1418 - val_loss: 1.1455\n",
      "Epoch 6/10\n",
      "3741/3741 [==============================] - 107s 29ms/step - loss: 1.1448 - val_loss: 1.1492\n",
      "Epoch 7/10\n",
      "3741/3741 [==============================] - 100s 27ms/step - loss: 1.1528 - val_loss: 1.1435\n",
      "Epoch 8/10\n",
      "3741/3741 [==============================] - 85s 23ms/step - loss: 1.1469 - val_loss: 1.1395\n",
      "Epoch 9/10\n",
      "3741/3741 [==============================] - 87s 23ms/step - loss: 1.1430 - val_loss: 1.1407\n",
      "Epoch 10/10\n",
      "3741/3741 [==============================] - 92s 25ms/step - loss: 1.1420 - val_loss: 1.1546\n",
      "===========================[SCINET]=====================================\n",
      "Initializing training with data:\n",
      "X_train: (29926, 48, 7), y_train: (29926, 24, 7)\n",
      "X_val: (9927, 48, 7), y_val: (9927, 24, 7)\n",
      "X_test: (9928, 48, 7), y_test: (9928, 24, 7)\n",
      "Building model...\n",
      "Model: \"model_2\"\n",
      "_________________________________________________________________\n",
      " Layer (type)                Output Shape              Param #   \n",
      "=================================================================\n",
      " input_3 (InputLayer)        [(None, 48, 7)]           0         \n",
      "                                                                 \n",
      " Block_0 (SCINet)            (None, 24, 7)             97332     \n",
      "                                                                 \n",
      "=================================================================\n",
      "Total params: 97,332\n",
      "Trainable params: 97,332\n",
      "Non-trainable params: 0\n",
      "_________________________________________________________________\n",
      "None\n",
      "Is null X: 0\n",
      "Is null y: 0\n",
      "Epoch 1/10\n",
      "3741/3741 [==============================] - 115s 26ms/step - loss: 1.1267 - val_loss: 0.9969\n",
      "Epoch 2/10\n",
      "3741/3741 [==============================] - 91s 24ms/step - loss: 0.9812 - val_loss: 0.9884\n",
      "Epoch 3/10\n",
      "3741/3741 [==============================] - 92s 24ms/step - loss: 0.9561 - val_loss: 0.9825\n",
      "Epoch 4/10\n",
      "3741/3741 [==============================] - 91s 24ms/step - loss: 0.9451 - val_loss: 0.9783\n",
      "Epoch 5/10\n",
      "3741/3741 [==============================] - 91s 24ms/step - loss: 0.9332 - val_loss: 0.9847\n",
      "Epoch 6/10\n",
      "3741/3741 [==============================] - 91s 24ms/step - loss: 0.9260 - val_loss: 0.9898\n",
      "Epoch 7/10\n",
      "3741/3741 [==============================] - 91s 24ms/step - loss: 0.9201 - val_loss: 0.9839\n",
      "Epoch 8/10\n",
      "3741/3741 [==============================] - 98s 26ms/step - loss: 0.9174 - val_loss: 0.9851\n",
      "Epoch 9/10\n",
      "3741/3741 [==============================] - 97s 26ms/step - loss: 0.9108 - val_loss: 0.9908\n",
      "Epoch 10/10\n",
      "3741/3741 [==============================] - 106s 28ms/step - loss: 0.9078 - val_loss: 0.9856\n",
      "===========================[SCINET]=====================================\n",
      "Initializing training with data:\n",
      "X_train: (29926, 48, 7), y_train: (29926, 24, 7)\n",
      "X_val: (9927, 48, 7), y_val: (9927, 24, 7)\n",
      "X_test: (9928, 48, 7), y_test: (9928, 24, 7)\n",
      "Building model...\n",
      "Model: \"model_3\"\n",
      "_________________________________________________________________\n",
      " Layer (type)                Output Shape              Param #   \n",
      "=================================================================\n",
      " input_4 (InputLayer)        [(None, 48, 7)]           0         \n",
      "                                                                 \n",
      " Block_0 (SCINet)            (None, 24, 7)             97332     \n",
      "                                                                 \n",
      "=================================================================\n",
      "Total params: 97,332\n",
      "Trainable params: 97,332\n",
      "Non-trainable params: 0\n",
      "_________________________________________________________________\n",
      "None\n",
      "Is null X: 0\n",
      "Is null y: 0\n",
      "Epoch 1/10\n",
      "3741/3741 [==============================] - 125s 26ms/step - loss: 1.7243 - val_loss: 1.2513\n",
      "Epoch 2/10\n",
      "3741/3741 [==============================] - 92s 25ms/step - loss: 1.1843 - val_loss: 1.1176\n",
      "Epoch 3/10\n",
      "3741/3741 [==============================] - 93s 25ms/step - loss: 1.0717 - val_loss: 1.0397\n",
      "Epoch 4/10\n",
      "3741/3741 [==============================] - 95s 25ms/step - loss: 1.0239 - val_loss: 1.0283\n",
      "Epoch 5/10\n",
      "3741/3741 [==============================] - 112s 30ms/step - loss: 1.0028 - val_loss: 1.0118\n",
      "Epoch 6/10\n",
      "3741/3741 [==============================] - 112s 30ms/step - loss: 0.9883 - val_loss: 0.9974\n",
      "Epoch 7/10\n",
      "3741/3741 [==============================] - 110s 30ms/step - loss: 0.9791 - val_loss: 0.9878\n",
      "Epoch 8/10\n",
      "3741/3741 [==============================] - 108s 29ms/step - loss: 0.9711 - val_loss: 0.9888\n",
      "Epoch 9/10\n",
      "3741/3741 [==============================] - 109s 29ms/step - loss: 0.9645 - val_loss: 0.9844\n",
      "Epoch 10/10\n",
      "3741/3741 [==============================] - 95s 25ms/step - loss: 0.9561 - val_loss: 0.9784\n"
     ]
    }
   ],
   "source": [
    "LEARNING_RATES = [0.1, 0.01, 0.001, 0.0001]\n",
    "\n",
    "train_losses = np.zeros((len(LEARNING_RATES), EPOCHS))\n",
    "val_losses = np.zeros((len(LEARNING_RATES), EPOCHS))\n",
    "for idx, LEARNING_RATE in enumerate(LEARNING_RATES):\n",
    "\n",
    "    model, history, X_train , y_train, X_val, y_val, X_test, y_test = train_scinet( X_train = results[\"X_train\"].astype('float32'),\n",
    "                                                                                    y_train = results[\"y_train\"].astype('float32'),\n",
    "                                                                                    X_val = results[\"X_val\"].astype('float32'),\n",
    "                                                                                    y_val = results[\"y_val\"].astype('float32'),\n",
    "                                                                                    X_test = results[\"X_test\"].astype('float32'),\n",
    "                                                                                    y_test = results[\"y_test\"].astype('float32'),\n",
    "                                                                                    epochs = EPOCHS,\n",
    "                                                                                    batch_size = BATCH_SIZE,\n",
    "                                                                                    X_LEN = X_LEN,\n",
    "                                                                                    Y_LEN = [Y_LEN],\n",
    "                                                                                    output_dim = [results[\"X_train\"].shape[2]],\n",
    "                                                                                    selected_columns = None,\n",
    "                                                                                    hid_size= HID_SIZE,\n",
    "                                                                                    num_levels= NUM_LEVELS,\n",
    "                                                                                    kernel = KERNEL_SIZE,\n",
    "                                                                                    dropout = DROPOUT,\n",
    "                                                                                    loss_weights= [1],\n",
    "                                                                                    learning_rate = LEARNING_RATE,\n",
    "                                                                                    probabilistic = PROBABILISTIC)\n",
    "\n",
    "    train_loss = history.history['loss']\n",
    "    train_losses[idx] = train_loss\n",
    "\n",
    "    val_loss = history.history['val_loss']\n",
    "    val_losses[idx] = val_loss"
   ]
  },
  {
   "cell_type": "markdown",
   "metadata": {},
   "source": [
    "## Plotting"
   ]
  },
  {
   "cell_type": "markdown",
   "metadata": {},
   "source": [
    "Here the performance of each model on the validation set is compared using a plot. The hyperparamer of the model with the lowest loss in the validation set can be selected as the optimal value."
   ]
  },
  {
   "cell_type": "code",
   "execution_count": 6,
   "metadata": {},
   "outputs": [
    {
     "data": {
      "image/png": "[encoded data removed]",
      "text/plain": [
       "<Figure size 576x432 with 1 Axes>"
      ]
     },
     "metadata": {
      "needs_background": "light"
     },
     "output_type": "display_data"
    }
   ],
   "source": [
    "plt.figure(figsize=(8,6))\n",
    "\n",
    "X = np.arange(EPOCHS)\n",
    "for idx, lr in enumerate(LEARNING_RATES):\n",
    "    plt.plot(X, val_losses[idx], label=f'lr = {lr}')\n",
    "\n",
    "plt.xlabel('Epochs', fontsize=15)\n",
    "plt.ylabel('Validation MAE', fontsize=15)\n",
    "plt.xlim(xmin=0)\n",
    "plt.ylim(ymin=0)\n",
    "plt.title('Learning rate comparison', fontsize=15)\n",
    "plt.legend()\n",
    "plt.savefig(f\"Optimization_LearningRate.pdf\")\n",
    "plt.show()"
   ]
  }
 ],
 "metadata": {
  "kernelspec": {
   "display_name": "Python 3.10.5 64-bit (windows store)",
   "language": "python",
   "name": "python3"
  },
  "language_info": {
   "codemirror_mode": {
    "name": "ipython",
    "version": 3
   },
   "file_extension": ".py",
   "mimetype": "text/x-python",
   "name": "python",
   "nbconvert_exporter": "python",
   "pygments_lexer": "ipython3",
   "version": "3.10.5"
  },
  "orig_nbformat": 4,
  "vscode": {
   "interpreter": {
    "hash": "e0d398e7c3cc3d2b8386dfea47f5eae3378d5d39db7e2c8ef87e93246db0bfd2"
   }
  }
 },
 "nbformat": 4,
 "nbformat_minor": 2
}

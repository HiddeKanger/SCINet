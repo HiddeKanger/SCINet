{
 "cells": [
  {
   "cell_type": "markdown",
   "id": "b014b7e1",
   "metadata": {},
   "source": [
    "# Reproducing results\n",
    "\n",
    "Since we rebuild SCINet from scratch, it is necessary to test and compare with the original Pytorch implementation to see whether everything functions as expected. To that end, our goal in this notebook is to replicate some of the result posed in the original paper. As such, the goal is not necessary to get as good of a score on the dataset as possible, but rather to get a similar score to the original SCINet."
   ]
  },
  {
   "cell_type": "markdown",
   "id": "797d66de",
   "metadata": {},
   "source": [
    "As alway, we will begin by importing some of the relevant libraries:"
   ]
  },
  {
   "cell_type": "code",
   "execution_count": 1,
   "id": "f5e100d1",
   "metadata": {},
   "outputs": [],
   "source": [
    "import os\n",
    "import sys\n",
    "import math\n",
    "import numpy as np\n",
    "import pandas as pd\n",
    "import numpy as np\n",
    "import matplotlib.pyplot as plt\n",
    "\n",
    "cwd = os.getcwd()\n",
    "BASE_DIR = os.path.dirname(os.path.dirname(cwd))\n",
    "\n",
    "sys.path.insert(0, BASE_DIR) #add base to path for relative imports\n",
    "os.chdir('../..')\n",
    "\n"
   ]
  },
  {
   "cell_type": "markdown",
   "id": "77c4dcc3",
   "metadata": {},
   "source": [
    "Since the loading-preprocessing-training workflow has already been thoroughly discussed before ('exp/training_scinet.ipynb'), we will do it all at once. For the datasets to compare, we will use the 'experiment_ETTh1','experiment_ETTh2' and 'experiment_ETTM1' datasets. The hyperparameters used are similar to those described in the original paper. As training on all datasets can take up to 30 minutes on a CPU, there is also an option to skip this training and instead use pretrained models. To do this, keep 'train' to 'False'. If you instead want to train from scratch, set it to 'True'. Eitherway do run the cell or the rest of the notebook won't run."
   ]
  },
  {
   "cell_type": "code",
   "execution_count": null,
   "id": "18e2d2fa",
   "metadata": {},
   "outputs": [],
   "source": [
    "from base.train_scinet import train_scinet\n",
    "from utils.preprocess_data import preprocess\n",
    "from utils.data_loading import load_data\n",
    "from utils.original import orig_param\n",
    "\n",
    "\n",
    "standardization_settings = {'per_sample': False,\n",
    "                            'leaky': False,\n",
    "                            'mode': 'lin', #only if per sample is false, choose from log, sqrt or lin\n",
    "                            'sqrt_val': 2, #of course only if mode is sqrt\n",
    "                            'total mean': [],\n",
    "                            'total std': []}\n",
    "\n",
    "datasets = ['ETTh1', 'ETTh2', 'ETTm1']\n",
    "\n",
    "X_len = 48\n",
    "Y_len = 24\n",
    "\n",
    "pairs = [\"HUFL\", \"HULL\", \"MUFL\", \"MULL\", \"LUFL\", \"LULL\", \"OT\"]\n",
    "\n",
    "test_data = {}\n",
    "\n",
    "for dataset in datasets:\n",
    "\n",
    "    data, mean_full, std_full = load_data(dataset , pairs)\n",
    "\n",
    "    proc_results = preprocess(   \n",
    "                        data = data, \n",
    "                        symbols = pairs,\n",
    "                        data_format = ['price'],\n",
    "                        fraction = 1,\n",
    "                        train_frac = .6,\n",
    "                        val_frac = .2,\n",
    "                        test_frac = .2,\n",
    "                        X_LEN = X_len,\n",
    "                        Y_LEN = Y_len,\n",
    "                        OVERLAPPING = True,\n",
    "                        STANDARDIZE = True,\n",
    "                        standardization_settings = standardization_settings\n",
    "                        )\n",
    "\n",
    "    test_data[dataset] = {'X_test': proc_results['X_test'],'y_test': proc_results['y_test']}\n",
    "\n",
    "    train = False\n",
    "    if train:\n",
    "\n",
    "        results = train_scinet( \n",
    "                    X_train = proc_results[\"X_train\"],\n",
    "                    y_train = proc_results[\"y_train\"],\n",
    "                    X_val = proc_results[\"X_val\"],\n",
    "                    y_val = proc_results[\"y_val\"],\n",
    "                    X_test = proc_results[\"X_test\"],\n",
    "                    y_test = proc_results[\"y_test\"],\n",
    "                    epochs = orig_param[dataset]['epochs'],\n",
    "                    batch_size = orig_param[dataset]['batch_size'],\n",
    "                    X_LEN = X_len,\n",
    "                    Y_LEN = [Y_len],\n",
    "                    output_dim = [proc_results[\"X_train\"].shape[2]],\n",
    "                    selected_columns = None,\n",
    "                    hid_size= orig_param[dataset]['hid_size'],\n",
    "                    num_levels= orig_param[dataset]['num_levels'],\n",
    "                    kernel = orig_param[dataset]['kernel_size'],\n",
    "                    dropout = orig_param[dataset]['dropout'],\n",
    "                    loss_weights= [1],\n",
    "                    learning_rate = orig_param[dataset]['lr_rate'],\n",
    "                    probabilistic = False)\n",
    "\n",
    "        results[0].save_weights('exp/reprod/saved_models/model_{}_{}.h5'.format(dataset,orig_param[dataset]['epochs']))\n",
    "    \n",
    "\n",
    "\n"
   ]
  },
  {
   "cell_type": "markdown",
   "id": "e302655f",
   "metadata": {},
   "source": [
    "Using the test set, we are now in a position to compare our results with those in the original implementation. To that end, we use the saved models to make predictions and plot the errors:"
   ]
  },
  {
   "cell_type": "code",
   "execution_count": 3,
   "id": "712cf980",
   "metadata": {},
   "outputs": [
    {
     "name": "stdout",
     "output_type": "stream",
     "text": [
      "ETTh1\n",
      "Building model...\n",
      "ETTh2\n",
      "Building model...\n",
      "ETTm1\n",
      "Building model...\n"
     ]
    },
    {
     "data": {
      "image/png": "[encoded data removed]",
      "text/plain": [
       "<Figure size 432x288 with 1 Axes>"
      ]
     },
     "metadata": {
      "needs_background": "light"
     },
     "output_type": "display_data"
    }
   ],
   "source": [
    "from sklearn.metrics import mean_absolute_error as mae\n",
    "\n",
    "from base.SCINet import scinet_builder\n",
    "from utils.original import orig_maes\n",
    "from utils.plotting import plot_barplot_two\n",
    "\n",
    "\n",
    "maes = []\n",
    "\n",
    "datasets = ['ETTh1','ETTh2','ETTm1']\n",
    "\n",
    "for dataset in datasets:\n",
    "\n",
    "    print(dataset)\n",
    "\n",
    "    model = scinet_builder(\n",
    "                    output_len=  [Y_len],\n",
    "                    input_len = X_len,\n",
    "                    output_dim = [proc_results[\"X_train\"].shape[2]],\n",
    "                    input_dim = proc_results[\"X_train\"].shape[2],\n",
    "                    selected_columns = None, \n",
    "                    loss_weights = [1],\n",
    "                    hid_size = orig_param[dataset]['hid_size'],\n",
    "                    num_levels = orig_param[dataset]['num_levels'],\n",
    "                    kernel = orig_param[dataset]['kernel_size'],\n",
    "                    dropout = orig_param[dataset]['dropout'],\n",
    "                    learning_rate = orig_param[dataset]['lr_rate'],)\n",
    "    model.load_weights('exp/reprod/saved_models/model_{}_10.h5'.format(dataset))\n",
    "    prediction = model.predict(test_data[dataset]['X_test'])\n",
    "    maes.append(mae(prediction.flatten(), test_data[dataset]['y_test'].flatten()))\n",
    "\n",
    "plot_barplot_two(datasets, orig_maes, maes)\n"
   ]
  },
  {
   "cell_type": "markdown",
   "id": "3dd69701",
   "metadata": {},
   "source": [
    "Although the result are certainly within the same order of magnitude, there is a clear discrepancy between the two implementations with the original paper reporting significantly better maes. Suprisingly, the reason for this seems to be that the original implementation uses improper preprocessing. That is, in the normalisation the mean and standard deviation are calculated over the entire dataset instead of over $X_train$ only. This way, information leakes from the labels to the samples that are fed to SCINet. To test this, we will enable the 'leaky' setting in our standardization settings. It must be stressed that this is for demonstrational purposes only. THIS IS A BUG NOT A FEATURE!. We the run the same experiment:"
   ]
  },
  {
   "cell_type": "code",
   "execution_count": null,
   "id": "802c2cbb",
   "metadata": {},
   "outputs": [],
   "source": [
    "from base.train_scinet import train_scinet\n",
    "from utils.preprocess_data import preprocess\n",
    "from utils.data_loading import load_data\n",
    "from utils.original import orig_param\n",
    "\n",
    "datasets = ['ETTh1','ETTh2','ETTm1']\n",
    "\n",
    "X_len = 48\n",
    "Y_len = 24\n",
    "\n",
    "pairs = [\"HUFL\", \"HULL\", \"MUFL\", \"MULL\", \"LUFL\", \"LULL\", \"OT\"]\n",
    "\n",
    "test_data_leaky = {}\n",
    "\n",
    "for dataset in datasets:\n",
    "\n",
    "    data, mean_full, std_full = load_data(dataset , pairs)\n",
    "\n",
    "    standardization_settings = {'per_sample': False,\n",
    "                            'leaky': True,\n",
    "                            'mode': 'lin', #only if per sample is false, choose from log, sqrt or lin\n",
    "                            'sqrt_val': 2, #of course only if mode is sqrt\n",
    "                            'total mean': mean_full,\n",
    "                            'total std': std_full}\n",
    "\n",
    "    proc_results = preprocess(   \n",
    "                        data = data, \n",
    "                        symbols = pairs,\n",
    "                        data_format = ['price'],\n",
    "                        fraction = 1,\n",
    "                        train_frac = .6,\n",
    "                        val_frac = .2,\n",
    "                        test_frac = .2,\n",
    "                        X_LEN = X_len,\n",
    "                        Y_LEN = Y_len,\n",
    "                        OVERLAPPING = True,\n",
    "                        STANDARDIZE = True,\n",
    "                        standardization_settings = standardization_settings\n",
    "                        )\n",
    "\n",
    "    test_data_leaky[dataset] = {'X_test': proc_results['X_test'], 'y_test':proc_results['y_test']}\n",
    "\n",
    "    train = False\n",
    "    if train:\n",
    "        results = train_scinet( \n",
    "                    X_train = proc_results[\"X_train\"],\n",
    "                    y_train = proc_results[\"y_train\"],\n",
    "                    X_val = proc_results[\"X_val\"],\n",
    "                    y_val = proc_results[\"y_val\"],\n",
    "                    X_test = proc_results[\"X_test\"],\n",
    "                    y_test = proc_results[\"y_test\"],\n",
    "                    epochs = orig_param[dataset]['epochs'],\n",
    "                    batch_size = orig_param[dataset]['batch_size'],\n",
    "                    X_LEN = X_len,\n",
    "                    Y_LEN = [Y_len],\n",
    "                    output_dim = [proc_results[\"X_train\"].shape[2]],\n",
    "                    selected_columns = None,\n",
    "                    hid_size= orig_param[dataset]['hid_size'],\n",
    "                    num_levels= orig_param[dataset]['num_levels'],\n",
    "                    kernel = orig_param[dataset]['kernel_size'],\n",
    "                    dropout = orig_param[dataset]['dropout'],\n",
    "                    loss_weights= [1],\n",
    "                    learning_rate = orig_param[dataset]['lr_rate'],\n",
    "                    probabilistic = False)\n",
    "\n",
    "        results[0].save_weights('exp/reprod/saved_models/model_leaky_{}_{}.h5'.format(dataset,orig_param[dataset]['epochs']))"
   ]
  },
  {
   "cell_type": "markdown",
   "id": "c9288c3b",
   "metadata": {},
   "source": [
    "We then make predictioins using the models and compare with both the original and non-leaky implementations."
   ]
  },
  {
   "cell_type": "code",
   "execution_count": 11,
   "id": "7c67513b",
   "metadata": {},
   "outputs": [
    {
     "name": "stdout",
     "output_type": "stream",
     "text": [
      "ETTh1\n",
      "Building model...\n",
      "ETTh2\n",
      "Building model...\n",
      "ETTm1\n",
      "Building model...\n"
     ]
    },
    {
     "data": {
      "image/png": "[encoded data removed]",
      "text/plain": [
       "<Figure size 432x288 with 1 Axes>"
      ]
     },
     "metadata": {
      "needs_background": "light"
     },
     "output_type": "display_data"
    }
   ],
   "source": [
    "from sklearn.metrics import mean_absolute_error as mae\n",
    "\n",
    "from base.SCINet import scinet_builder\n",
    "from utils.original import orig_maes\n",
    "from utils.plotting import plot_barplot_three\n",
    "\n",
    "maes_leaky = []\n",
    "\n",
    "datasets = ['ETTh1','ETTh2','ETTm1']\n",
    "\n",
    "for dataset in datasets:\n",
    "\n",
    "    print(dataset)\n",
    "\n",
    "    model = scinet_builder(\n",
    "                    output_len=  [Y_len],\n",
    "                    input_len = X_len,\n",
    "                    output_dim = [proc_results[\"X_train\"].shape[2]],\n",
    "                    input_dim = proc_results[\"X_train\"].shape[2],\n",
    "                    selected_columns = None, \n",
    "                    loss_weights = [1],\n",
    "                    hid_size = orig_param[dataset]['hid_size'],\n",
    "                    num_levels = orig_param[dataset]['num_levels'],\n",
    "                    kernel = orig_param[dataset]['kernel_size'],\n",
    "                    dropout = orig_param[dataset]['dropout'],\n",
    "                    learning_rate = orig_param[dataset]['lr_rate'],)\n",
    "    model.load_weights('exp/reprod/saved_models/model_leaky_{}_10.h5'.format(dataset))\n",
    "    prediction = model.predict(test_data_leaky[dataset]['X_test'])\n",
    "    maes_leaky.append(mae(prediction.flatten(), test_data_leaky[dataset]['y_test'].flatten()))\n",
    "\n",
    "plot_barplot_three(datasets, orig_maes, maes, maes_leaky)"
   ]
  },
  {
   "cell_type": "markdown",
   "id": "0fbb6386",
   "metadata": {},
   "source": [
    "We observe that this indeed boosts performance. Although this confirms the working of our implementation this does raise an issue with SCINet. The original authors are have been made aware of this."
   ]
  }
 ],
 "metadata": {
  "kernelspec": {
   "display_name": "Python 3.9.12 ('learn')",
   "language": "python",
   "name": "python3"
  },
  "language_info": {
   "codemirror_mode": {
    "name": "ipython",
    "version": 3
   },
   "file_extension": ".py",
   "mimetype": "text/x-python",
   "name": "python",
   "nbconvert_exporter": "python",
   "pygments_lexer": "ipython3",
   "version": "3.9.12"
  },
  "vscode": {
   "interpreter": {
    "hash": "b80aa8293e98206ec1521bb25d120a454bd9470ae610e9b13876565475d9d2ee"
   }
  }
 },
 "nbformat": 4,
 "nbformat_minor": 5
}

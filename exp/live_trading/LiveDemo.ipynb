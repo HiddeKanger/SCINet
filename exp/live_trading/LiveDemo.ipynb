{
 "cells": [
  {
   "cell_type": "markdown",
   "metadata": {},
   "source": [
    "# Live Simulated Trading\n",
    "\n",
    "The live trading system works by subscribing to a brokers (FTX) websocket and processing all changes in the orderbook. This is filtered for the best bid and best ask in order to calculate the mid-price as ``the price''. No slippage or fees are taken into account as the small order assumption holds here (our market orders will have no impact on the price). This price fluctuations are accumulated for a certain period which then forms one data point for the SCINet model (open, high, low, close). These datapoints are accumulated to form a sequence that is the input to the SCINet model. Then, similar to the backtesting system. \n",
    "\n",
    "As we are dealing with a highly asynchronous system the different components described above are divided in three separate threads: websocket thread, data preparation thread, scinet model strategy thread. This way, the individual processes run in parallel allowing each of the processes to not be held back by the others."
   ]
  },
  {
   "cell_type": "code",
   "execution_count": 1,
   "metadata": {},
   "outputs": [],
   "source": [
    "import os\n",
    "import sys\n",
    "\n",
    "cwd = os.getcwd()\n",
    "BASE_DIR = os.path.dirname(os.path.dirname(cwd))\n",
    "\n",
    "sys.path.insert(0, BASE_DIR) #add base to path for relative imports\n",
    "\n",
    "sys.path.insert(0, \"data/\")"
   ]
  },
  {
   "cell_type": "code",
   "execution_count": 2,
   "metadata": {},
   "outputs": [],
   "source": [
    "import numpy as np\n",
    "import matplotlib.pyplot as plt\n",
    "import matplotlib.animation as animation\n",
    "\n",
    "from threading import Thread\n",
    "\n",
    "from utils.websocket_manager import WebsocketManager #handles ws connection with broker\n",
    "\n",
    "from utils.data_prepper import SCINET_data_prepper #prepares data in samples for SCINet\n",
    "\n",
    "from utils.live_scinet import LiveSCINET #live SCINet model for prediction"
   ]
  },
  {
   "cell_type": "markdown",
   "metadata": {},
   "source": [
    "## Dashboard"
   ]
  },
  {
   "cell_type": "markdown",
   "metadata": {},
   "source": [
    "The following code builds and updates a live dashboard using matplotlib. The data is requested from the live SCINet strategy and the portfolio that tracks the balance of the live model during the trading session. The plots are updates as fast as possible using a matplotlib FuncAnimation."
   ]
  },
  {
   "cell_type": "code",
   "execution_count": 3,
   "metadata": {},
   "outputs": [],
   "source": [
    "def live_plot(ws_manager, data_prepper, live_model):\n",
    "    fig = plt.figure(figsize=(8, 8))\n",
    "\n",
    "    market_axis = plt.subplot2grid(shape = (3, 1), loc = (0, 0))\n",
    "    sample_axis = plt.subplot2grid(shape = (3, 1), loc = (1, 0))\n",
    "    balance_axis = plt.subplot2grid(shape = (3, 1), loc = (2, 0))\n",
    "\n",
    "\n",
    "    market_axis.set_title(ws_manager.markets[0])\n",
    "    sample_axis.set_title(f\"processed sample\")\n",
    "    balance_axis.set_title(f\"live total equity - #longs: {live_model.long_count} #shorts: {live_model.short_count}\")\n",
    "\n",
    "    axes_markets = [market_axis]\n",
    "\n",
    "    ani = animation.FuncAnimation(fig, update, fargs = ([axes_markets, sample_axis, balance_axis], \n",
    "                                                        ws_manager, \n",
    "                                                        data_prepper,\n",
    "                                                        live_model), interval=10)\n",
    "\n",
    "    plt.show()\n",
    "\n",
    "def update(t, axes, ws_manager, data_prepper, live_model):\n",
    "    axes_markets = axes[0]\n",
    "    samples_axis = axes[1]\n",
    "    balance_axis = axes[2]\n",
    "\n",
    "    #market(s) plot\n",
    "    for i, market in enumerate(ws_manager.markets):\n",
    "        times = ws_manager.market_data[market][\"times\"]\n",
    "        bids = ws_manager.market_data[market][\"bids\"]\n",
    "        asks = ws_manager.market_data[market][\"asks\"]\n",
    "\n",
    "        if len(times) == len(bids) == len(asks): #sometimes threads out of sync\n",
    "            try:\n",
    "                axes_markets[i].clear()\n",
    "                axes_markets[i].fill_between(times, asks, (np.array(bids) + np.array(asks))/2, color = \"red\", label = \"best ask\")\n",
    "                axes_markets[i].fill_between(times, bids, (np.array(bids) + np.array(asks))/2, color = \"green\", label = \"best bid\")\n",
    "                axes_markets[i].plot(times, (np.array(bids) + np.array(asks))/2, color = \"black\", label = \"mid-price\")\n",
    "                axes_markets[i].set_title(f\"market: {ws_manager.markets[i]}\")\n",
    "                axes_markets[i].legend(bbox_to_anchor=(1,1), loc=\"upper left\")\n",
    "            except Exception as error:\n",
    "                print(f\"error plotting with message: {error}\")\n",
    "        else:\n",
    "            print(f\"out of sync\")\n",
    "\n",
    "    if t % 5 == 0:\n",
    "        #model data plot\n",
    "\n",
    "\n",
    "        market_data = data_prepper.data[ws_manager.markets[0]]\n",
    "\n",
    "        if type(live_model.prediction) != type(None):\n",
    "            samples_axis.clear()\n",
    "            samples_axis.plot(range(live_model.X_LEN), live_model.current_sample, color = \"black\", label = \"sample\")\n",
    "\n",
    "            if live_model.planned_trade != None:\n",
    "                trade_type = live_model.planned_trade[\"type\"]\n",
    "            else:\n",
    "                trade_type = None\n",
    "\n",
    "            color = (trade_type == \"EXIT_LONG\") * \"green\" + \\\n",
    "                    (trade_type == \"EXIT_SHORT\") * \"red\" + \\\n",
    "                    (trade_type == None) * \"gray\"\n",
    "\n",
    "            samples_axis.plot(  range(live_model.X_LEN, live_model.X_LEN + live_model.Y_LEN), \n",
    "                                live_model.prediction, \n",
    "                                color = color\n",
    "                            )\n",
    "            samples_axis.scatter(   range(live_model.X_LEN, live_model.X_LEN + live_model.Y_LEN), \n",
    "                                    live_model.prediction, \n",
    "                                    color = color,\n",
    "                                    s = 5,\n",
    "                                    label = \"prediction\"\n",
    "                                )\n",
    "\n",
    "            samples_axis.set_title(\"processed sample\")\n",
    "            samples_axis.legend(bbox_to_anchor=(1,1), loc=\"upper left\")\n",
    "\n",
    "        #portfolio plot\n",
    "        if type(live_model.prediction) != type(None): \n",
    "                min_len = min(len(live_model.current_times), len(live_model.equity)) #can get out of sync, plot shortest\n",
    "                balance_axis.clear()\n",
    "                balance_axis.plot(list(live_model.current_times)[:min_len], list(live_model.equity)[:min_len], color = \"black\")\n",
    "                balance_axis.set_title(f\"live total equity - #longs: {live_model.long_count} #shorts: {live_model.short_count}\")\n",
    "\n",
    "    if t % 500 == 0:\n",
    "        print(f\"fixing layout...\")\n",
    "\n",
    "        plt.tight_layout()"
   ]
  },
  {
   "cell_type": "code",
   "execution_count": 4,
   "metadata": {},
   "outputs": [
    {
     "name": "stdout",
     "output_type": "stream",
     "text": [
      "Building model...\n",
      "Input did not contain model weights, using random SCINET model\n",
      "Model: \"model\"\n",
      "__________________________________________________________________________________________________\n",
      " Layer (type)                   Output Shape         Param #     Connected to                     \n",
      "==================================================================================================\n",
      " input_1 (InputLayer)           [(None, 168, 4)]     0           []                               \n",
      "                                                                                                  \n",
      " Block_0 (SCINet)               (None, 20, 4)        121744      ['input_1[0][0]']                \n",
      "                                                                                                  \n",
      " tf.concat (TFOpLambda)         (None, 188, 4)       0           ['input_1[0][0]',                \n",
      "                                                                  'Block_0[0][0]']                \n",
      "                                                                                                  \n",
      " cropping1d (Cropping1D)        (None, 168, 4)       0           ['tf.concat[0][0]']              \n",
      "                                                                                                  \n",
      " Block_1 (SCINet)               (None, 20, 4)        121744      ['cropping1d[0][0]']             \n",
      "                                                                                                  \n",
      "==================================================================================================\n",
      "Total params: 243,488\n",
      "Trainable params: 243,488\n",
      "Non-trainable params: 0\n",
      "__________________________________________________________________________________________________\n",
      "None\n",
      "0 169\n"
     ]
    },
    {
     "data": {
      "image/png": "[encoded data removed]",
      "text/plain": [
       "<Figure size 576x576 with 3 Axes>"
      ]
     },
     "metadata": {
      "needs_background": "light"
     },
     "output_type": "display_data"
    },
    {
     "data": {
      "image/png": "[encoded data removed]",
      "text/plain": [
       "<Figure size 432x288 with 1 Axes>"
      ]
     },
     "metadata": {
      "needs_background": "light"
     },
     "output_type": "display_data"
    },
    {
     "name": "stdout",
     "output_type": "stream",
     "text": [
      "'NoneType' object has no attribute 'is_ssl'\n"
     ]
    }
   ],
   "source": [
    "URL = \"wss://ftx.com/ws/\" #websocket endpoint of broker\n",
    "\n",
    "max_queue_len = 1000 #only display the latest 1000 points for speed\n",
    "\n",
    "\n",
    "markets = [\"SOL-PERP\"] #market to trade on\n",
    "\n",
    "X_LEN = 168 #input sample length\n",
    "Y_LEN = [20, 20] #output sample length\n",
    "\n",
    "#websocket handler\n",
    "ws_manager = WebsocketManager(  URL = URL,\n",
    "                                markets = markets,\n",
    "                                max_len = max_queue_len\n",
    "                            )\n",
    "\n",
    "update_period = 1 #second, take data sample every second\n",
    "#prepare data in samples for SCINet\n",
    "data_prepper = SCINET_data_prepper( ws_manager = ws_manager,\n",
    "                                    X_LEN = X_LEN,\n",
    "                                    Y_LEN = Y_LEN,\n",
    "                                    update_period = update_period\n",
    "                                ) \n",
    "\n",
    "model_weights = \"model_weights/BTCUSD_1652131187\" #trained model\n",
    "begin_cash = 1000 #beginning equity\n",
    "\n",
    "#live scinet model\n",
    "live_model = LiveSCINET(prepper = data_prepper,\n",
    "                        n_features = int(4 * len(markets)),\n",
    "                        output_dim =  [int(4 * len(markets))] * 2,\n",
    "                        X_LEN = X_LEN,\n",
    "                        Y_LEN = Y_LEN,\n",
    "                        threshold = 0.25,\n",
    "                        model_weights = None, # WARNING # TODO\n",
    "                        begin_cash = begin_cash,\n",
    "                    )\n",
    "\n",
    "ws_thread = Thread(target = ws_manager.connect)\n",
    "prepper_thread = Thread(target = data_prepper.run)\n",
    "scinet_thread = Thread(target = live_model.run)\n",
    "\n",
    "ws_thread.start()\n",
    "prepper_thread.start()\n",
    "scinet_thread.start()\n",
    "\n",
    "\n",
    "live_plot(ws_manager, data_prepper, live_model)\n",
    "\n",
    "\n",
    "#in case plot is closed -> stop all threads\n",
    "ws_manager.stop()\n",
    "data_prepper.stop()\n",
    "live_model.stop()\n",
    "\n",
    "\n",
    "performance = live_model.historic_equity\n",
    "plt.figure()\n",
    "plt.plot(performance, color = \"black\", label = \"equity\")\n",
    "plt.hlines(begin_cash, 0, len(performance), color = \"red\", linestyle = \"--\", label = \"initial equity\")\n",
    "plt.xlabel(\"timestamp\")\n",
    "plt.title(\"Model performance during presentation\")\n",
    "plt.legend()\n",
    "plt.show()"
   ]
  }
 ],
 "metadata": {
  "kernelspec": {
   "display_name": "Python 3.8.8 64-bit",
   "language": "python",
   "name": "python3"
  },
  "language_info": {
   "codemirror_mode": {
    "name": "ipython",
    "version": 3
   },
   "file_extension": ".py",
   "mimetype": "text/x-python",
   "name": "python",
   "nbconvert_exporter": "python",
   "pygments_lexer": "ipython3",
   "version": "3.8.8"
  },
  "orig_nbformat": 4,
  "vscode": {
   "interpreter": {
    "hash": "1c4978c00161b051580735162adcfc8dd634c768368a35231794f90f2447cc2e"
   }
  }
 },
 "nbformat": 4,
 "nbformat_minor": 2
}

{
 "cells": [
  {
   "cell_type": "code",
   "execution_count": null,
   "metadata": {},
   "outputs": [],
   "source": [
    "import numpy as np\n",
    "\n",
    "def train_scinet(   X_train: np.array,\n",
    "                    y_train: np.array,\n",
    "                    X_val: np.array,\n",
    "                    y_val: np.array,\n",
    "                    X_test: np.array,\n",
    "                    y_test: np.array,\n",
    "                    epochs: int,                                   \n",
    "                    batch_size: int,\n",
    "                    X_LEN: int,                         # Number of timesteps in SCINet input.\n",
    "                    Y_LEN: list[int],                   # Length of output along time dimension.\n",
    "                    output_dim: list[int],              # Number of time series to predict\n",
    "                    selected_columns: list[list[int]],  # Which of the input columns to predict\n",
    "                    hid_size: int,                      # Number of convolutional filters in SCI-block.\n",
    "                    num_levels: int,                    # Depth of the SCI-tree.\n",
    "                    kernel: int,                        # Kernel size of convolutional layers.\n",
    "                    dropout: float,                     # Dropout between convolutional layers.\n",
    "                    loss_weights: list[float],          # Relative importance of SCINets to overall loss.\n",
    "                    learning_rate: float,):             # Learning rate of Adam optimizer."
   ]
  },
  {
   "cell_type": "code",
   "execution_count": null,
   "metadata": {},
   "outputs": [],
   "source": []
  }
 ],
 "metadata": {
  "language_info": {
   "name": "python"
  },
  "orig_nbformat": 4
 },
 "nbformat": 4,
 "nbformat_minor": 2
}
